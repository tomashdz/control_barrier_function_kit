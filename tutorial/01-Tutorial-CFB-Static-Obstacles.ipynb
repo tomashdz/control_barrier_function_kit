{
 "metadata": {
  "language_info": {
   "name": "python",
   "version": "3.9.0",
   "mimetype": "text/x-python",
   "codemirror_mode": {
    "name": "ipython",
    "version": 3
   },
   "pygments_lexer": "ipython3",
   "nbconvert_exporter": "python",
   "file_extension": ".py"
  },
  "orig_nbformat": 2,
  "kernelspec": {
   "name": "python3",
   "display_name": "Python 3.9.0 64-bit"
  },
  "interpreter": {
   "hash": "3e10c6c31fd8e2422ae900f52b8d0b8c41774139565ddc78c25ba92946178417"
  }
 },
 "nbformat": 4,
 "nbformat_minor": 2,
 "cells": [
  {
   "cell_type": "markdown",
   "source": [
    "# CBF Tutorial - Part 1: Static Obstacles\n",
    "\n",
    "Authors: Bardh, Tom and Shakiba\n",
    "\n",
    "## In this notebook, we present a short introduction on Control Barrier Functions\n",
    "\n",
    "First, let's start by defining a two-dimensional system, called **nimble_ant**, with the following dynamics:\n",
    "$\n",
    "\\begin{align*}\n",
    "  \\dot{x} = u = \\begin{bmatrix}u_0 \\\\ u_1\\end{bmatrix} \\tag{1}\\\\\n",
    "\\end{align*}\n",
    "$\n",
    "Given an initial position $x^{init}$, our goal is to control this system to a goal location $x^{goal}$.\n",
    "$\n",
    "\\begin{align*}\n",
    "x^{init} = \\begin{bmatrix} x^{init}_0 \\\\  x^{init}_1 \\end{bmatrix} \\qquad\tx^{goal} = \\begin{bmatrix} x^{goal}_0 \\\\  x^{goal}_1 \\end{bmatrix} \\tag{2}\\\\\n",
    "\\end{align*}\n",
    "$\n",
    "However, the system should avoid certain areas in the workspace (more on this later).\n",
    "\n",
    "One way to solve this problem is to pose it as an optimization problem. Specifically, we would like to solve the following problem:\n",
    "$\n",
    "\\begin{align*}\n",
    "\\min_{u} \\quad & ||u_{ref} - u||\\\\\n",
    "\\textrm{s.t.} \\quad & \\text{CBF constraints to be added later} \\tag{3}\\\\\n",
    "\\end{align*}\n",
    "$\n",
    "So, we will try to minimize the distance between the decission variable $u$ and reference controller $u_{ref}$, while satisfying some constraints. For now, let us disregard the constraint and focus on designing a reference controller.\n",
    "\n",
    "## Reference controller\n",
    "\n",
    "We will define a very simple reference controller as follows\n",
    "$\n",
    "\\begin{align*}\n",
    "u_{ref} = k \\cdot (x^{goal} - x) \\tag{4}\n",
    "\\end{align*}\n",
    "$\n",
    "This is a two dimensional vector that takes the difference between the current system state (or location) and the goal location and multiply it with a gain factor $k$. This **simple** reference controller will take us from an initial location to the goal location. We can say it is a typical [proportional controller](https://en.wikipedia.org/wiki/Proportional_control). Next, we need to make sure that the system does not enter undesired states.\n",
    "\n",
    "## Control Barrier Function (CBF) as Constraints\n",
    "\n",
    "We assume that the undesired regions in the workspace can be defined with one or more [ellipses](https://en.wikipedia.org/wiki/Ellipse). In two dimensions, the region inside an ellypsis can be using the standard form with the following inequality\n",
    "$\n",
    "\\begin{align*}\n",
    "\\frac{z^2_0}{a^2} + \\frac{z^2_1}{b^2}\\leq 1 \\tag{5}\n",
    "\\end{align*}\n",
    "$\n",
    "where $z_0,z_1$ define the origin and $a,b$ define the major, minor axes of the ellipse, respectively.\n",
    "\n",
    "In our case, we would like to check whether our system is in the undesired region and therefore we modify the afforementined requirement\n",
    "$\n",
    "\\begin{align*}\n",
    "B(x) = \\frac{(x_0-z_0)^2}{a^2} + \\frac{(x_1-z_1)^2}{b^2} - 1 \\tag{6}\n",
    "\\end{align*}\n",
    "$\n",
    "\n",
    "CBFs are defined by the condition:\n",
    "$\n",
    "\\begin{align}\n",
    "\\dot{B}(x) \\ge -\\alpha\\cdot(B(x)) \\tag{7}\n",
    "\\end{align}\n",
    "$\n",
    "\n",
    "Where $\\dot{B}(x) = \\frac{\\partial{B}}{\\partial{t}}$ and $\\alpha$ is a positive real value. In this example we set $\\alpha=1$. $\\dot{B}(x)$ indicates how the distance of the system to the barrier changes with respect to time.\n",
    "\n",
    "So, in our formulation  $B(x) < 0$ indicates whether the current state is in a unsafe set.\n",
    "For a more detailed explanation of Eq. (7) See Proposition 2 in \"[Safety Verification of Hybrid Systems Using Barrier Certificates](http://web.mit.edu/~jadbabai/www/papers/hscc04_2.pdf)\".\n",
    "In Eq. (7), $B(x)$ indicates the distance between the state of the system and the unsafe set.\n",
    "We need to ensure that the rate of change is always bigger than the distance to the bad set by a factor $\\alpha$.\n",
    "In our case $\\alpha$ is one but in other problems it can be different.\n",
    "If this inequality holds, then the system is forward invariant. It will not enter the bad set.\n",
    "Next, we need to find a way to introduce our control input into this equation so that we can ensure that this inequality remains true. We do so through by subsituting $\\dot{B}(x)$ with an equivalent expression in terms of the control input.\n",
    "\n",
    "In order to calculate $\\dot{B}(x)$, we utilize the [chain rule](https://en.wikipedia.org/wiki/Chain_rule), which allows us to write\n",
    "$\n",
    "\\begin{align*}\n",
    "\\dot{B}(x) = \\frac{\\partial{B}}{\\partial{x}} \\cdot \\frac{\\partial{x}}{\\partial{t}} \\tag{8}\n",
    "\\end{align*}\n",
    "$\n",
    "\n",
    "Since $\\frac{\\partial{x}}{\\partial{t}} = \\dot{x}$, then\n",
    "$\n",
    "\\begin{align*}\n",
    "\\dot{B}(x) = \\frac{\\partial{B}}{\\partial{x}} \\cdot \\dot{x} \\tag{9}\n",
    "\\end{align*}\n",
    "$\n",
    "This we can easily solve by taking the derivative of $B(x)$ with respect to $x$\n",
    "$\n",
    "\\begin{align*}\n",
    "\\frac{\\partial{B}}{\\partial{x}} = \\begin{bmatrix} \\frac{2}{a^2}(x_0 - z_0) \\\\ \\frac{2}{b^2}(x_1 - z_1)\\end{bmatrix} \\tag{10}\n",
    "\\end{align*}\n",
    "$\n",
    "(The expansion is shown in [01-DerivativeB.md](./01-DerivativeB.md))\n",
    "\n",
    "Plugging this back in the original equation (7), since (9), (10), $\\alpha=1$, we get\n",
    "$\n",
    "\\begin{align*}\n",
    "\\dot{B}(x) &\\ge -\\alpha\\cdot(B(x))\\\\\n",
    "\\equiv \\frac{\\partial{B}}{\\partial{x}} \\dot{x} &\\ge -\\alpha\\cdot(B(x))\\\\ \\equiv \\begin{bmatrix} \\frac{2}{a^2}(x_0 - z_0)\\\\\n",
    "\\frac{2}{b^2}(x_1 - z_1)\\end{bmatrix} \\dot{x} &\\ge -(\\frac{(x_0-z_0)^2}{a^2} + \\frac{(x_1-z_1)^2}{b^2} - 1) \\tag{11}\n",
    "\\end{align*}\n",
    "$\n",
    "This will be used as a constraint for one ellipse. If there are additional ellipses in the workspace, we can add more CBFs in a similar fashion.\n",
    "\n",
    "## Posing the control problem as a quadratic program\n",
    "\n",
    "We can now combine the cost function with the constraints to form an optimization problem.\n",
    "$\n",
    "\\begin{align*}\n",
    "\\min_{u} \\quad & ||u_{ref} - u||\\\\ \\textrm{s.t.} \\quad & \\begin{bmatrix} \\frac{2}{a^2}(x_0 - z_0) \\\\ \\frac{2}{b^2}(x_1 - z_1)\\end{bmatrix} u \\ge -(\\frac{(x_0-z_0)^2}{a^2} + \\frac{(x_1-z_1)^2}{b^2} - 1) \\\\ \\tag{12}\n",
    "\\end{align*}\n",
    "$\n",
    "\n",
    "This problem can be posed as a [quadratic problem](https://en.wikipedia.org/wiki/Quadratic_programming) of the form\n",
    "$\n",
    "\\begin{align*}\n",
    "\\min_{\\mathbf{x}} \\quad & \\frac{1}{2}\\mathbf{x}^T P\\mathbf{x} + q^T\\mathbf{x} \\\\\n",
    "\\textrm{s.t.} \\quad & G\\mathbf{x} \\le h \\tag{13}\n",
    "\\end{align*}\n",
    "$\n",
    "In our case, $\\mathbf{x} = \\dot{x}$ is the decision variable,\n",
    "Where\n",
    "\n",
    "$\n",
    "\\begin{align*}\n",
    "P = I_2 \\tag{14}\n",
    "\\end{align*}\n",
    "$\n",
    "$\n",
    "\\begin{align*}\n",
    "q = \\begin{bmatrix} -u_{ref0} \\\\  -u_{ref1} \\end{bmatrix} \\tag{15}\n",
    "\\end{align*}\n",
    "$\n",
    "$\n",
    "\\begin{align*}\n",
    "G = \\begin{bmatrix} \\frac{-2}{a^2}(x_0 - z_0) \\\\\n",
    "    \\frac{-2}{b^2}(x_1 - z_1)\\end{bmatrix} \\tag{16}\n",
    "\\end{align*}\n",
    "$\n",
    "$\n",
    "\\begin{align*}\n",
    "h = (\\frac{(x_0-z_0)^2}{a^2} + \\frac{(x_1-z_1)^2}{b^2} - 1) \\tag{17}\n",
    "\\end{align*}\n",
    "$\n",
    "(The expansion is show in [01-CBF2Quadratic.md](./01-CBF2Quadratic.md))\n",
    "\n",
    "Here, one of advantage of this methodology is that instance of controller is not needed, as we can see (15) referes only result of controller reference $u_{ref}$. In another word, the CBF can work as an observer in whole controll system.\n",
    "\n",
    "## Code implementation\n",
    "\n",
    "First, we import the necessary packages for our example.\n"
   ],
   "metadata": {}
  },
  {
   "cell_type": "code",
   "execution_count": 15,
   "source": [
    "%matplotlib inline\r\n",
    "from IPython.display import HTML\r\n",
    "from sympy import symbols, Matrix, sin, cos, lambdify, exp, sqrt, log, diff, Mul, srepr\r\n",
    "import matplotlib.animation as animation\r\n",
    "from cbflib import cbf, cbf_utils, sys_and_ctrl\r\n",
    "import cvxopt as cvxopt\r\n",
    "import control as control\r\n",
    "import matplotlib.pyplot as plt\r\n",
    "import numpy as np\r\n",
    "from sympy import symbols\r\n"
   ],
   "outputs": [],
   "metadata": {}
  },
  {
   "cell_type": "markdown",
   "source": [
    "[SymPy](https://www.sympy.org/en/index.html) is a Python library for symbolic mathematics.\n",
    "We use it for handling any formulas in symbolic.\n",
    "\n",
    "numpy and matplotlib are well known.\n",
    "\n",
    "[control](https://python-control.readthedocs.io/en/0.8.4/) is Python Control Systems Library (python-control).\n",
    "That is a Python package that implements basic operations for analysis and design of feedback control systems.\n",
    "We are using it to make simple contoller.\n",
    "\n",
    "[cvxopt](https://cvxopt.org/) is Python Software for Convex Optimization.\n",
    "\n",
    "In cbflib, we define several functions. \n",
    "\n",
    "In [cbf.py](./cbflib/cbf.py) we define the CBF class, which enables us to define an instance of a CBF as well as compute the G and h matrices in the controller. \n",
    "\n",
    "In [sys_and_ctrl](./cbflib/sys_and_ctrl.py), we define systems and controllers for our examples including nimble_ant.\n",
    "\n",
    "Next, we define the goal for the system, bad sets, and parameters for the controller\n",
    "\n"
   ],
   "metadata": {}
  },
  {
   "cell_type": "code",
   "execution_count": 16,
   "source": [
    "# Robot Goal\r\n",
    "x_goal = np.array([5, 5])\r\n",
    "\r\n",
    "# Undesired aread in ellipse format (x,y,rad_x,rad_y) - Use example(0) through example(3)\r\n",
    "bad_sets = cbf_utils.example(1)\r\n",
    "\r\n",
    "# Parameters for reference controller\r\n",
    "ctrl_param = [0.3, 0.3]\r\n"
   ],
   "outputs": [],
   "metadata": {}
  },
  {
   "cell_type": "markdown",
   "source": [
    "We define the expression for the CBF, f(x) and g(x) for the dynamics of the system"
   ],
   "metadata": {}
  },
  {
   "cell_type": "code",
   "execution_count": 17,
   "source": [
    "# Symbols and equations for the CBF\r\n",
    "x_0, x_1, z_0, z_1, a, b = symbols('x_0 x_1 z_0 z_1 a b')\r\n",
    "symbs = (x_0, x_1, z_0, z_1, a, b)\r\n",
    "# Barrier function - distance of robot to obstacle\r\n",
    "B = ((x_0 - z_0)/a)**2 + ((x_1 - z_1)/b)**2 - 1\r\n",
    "\r\n",
    "# dx = g(x)u - not used\r\n",
    "f = 0\r\n",
    "g = Matrix([0, 0, 1.0])\r\n",
    "\r\n",
    "# Initialize CBF\r\n",
    "my_CBF = cbf.CBF(B, f, g, (x_0, x_1), bad_sets, symbs, degree=1)\r\n"
   ],
   "outputs": [],
   "metadata": {}
  },
  {
   "cell_type": "markdown",
   "source": [
    "We also define simulation options and define the closed loop system using the control package. "
   ],
   "metadata": {}
  },
  {
   "cell_type": "code",
   "execution_count": 18,
   "source": [
    "# Simulation settings\r\n",
    "T_max = 20\r\n",
    "n_samples = 200\r\n",
    "T = np.linspace(0, T_max, n_samples)\r\n",
    "dt = T[1]-T[0]\r\n",
    "params = {'x_goal': x_goal, 'bad_sets': bad_sets,\r\n",
    "          'ctrl_param': ctrl_param, 'CBF': my_CBF}\r\n"
   ],
   "outputs": [],
   "metadata": {}
  },
  {
   "cell_type": "markdown",
   "source": [
    "Next, we define the initial conditions for the system as follows"
   ],
   "metadata": {}
  },
  {
   "cell_type": "code",
   "execution_count": 19,
   "source": [
    "# intial condition\r\n",
    "x_0 = np.array([0.5, 1.5])\r\n",
    "\r\n",
    "# Disable cvxopt optimiztaion output\r\n",
    "cvxopt.solvers.options['show_progress'] = False\r\n",
    "cvxopt.solvers.options['max_iter'] = 1000\r\n",
    "\r\n",
    "# Simulate system\r\n",
    "print('\\nComputing trajectories for the initial condition:')\r\n",
    "print('x_0\\t x_1')\r\n",
    "print(x_0[0], '\\t', x_0[1])\r\n"
   ],
   "outputs": [
    {
     "output_type": "stream",
     "name": "stdout",
     "text": [
      "\n",
      "Computing trajectories for the initial condition:\n",
      "x_0\t x_1\n",
      "0.5 \t 1.5\n"
     ]
    }
   ],
   "metadata": {}
  },
  {
   "cell_type": "markdown",
   "source": [
    "We simulate the system."
   ],
   "metadata": {}
  },
  {
   "cell_type": "code",
   "execution_count": 20,
   "source": [
    "# If initial condition is inside the bad set, error out.\r\n",
    "for idxj, j in enumerate(bad_sets):\r\n",
    "    curr_bs = bad_sets[idxj]\r\n",
    "    assert cbf_utils.is_inside_ellipse(\r\n",
    "        [x_0[0], x_0[1]], bad_sets[idxj]) == 0, \"Initial condition is inside ellipse\"\r\n",
    "\r\n",
    "# Compute output on the nimble ant system for given initial conditions and timesteps T\r\n",
    "x = np.zeros((np.size(x_0), len(T)))\r\n",
    "x[:, 0] = x_0\r\n",
    "\r\n",
    "# Simulate system\r\n",
    "for i in range(len(T)-1):\r\n",
    "    x[:, i+1] = x[:, i] + dt * \\\r\n",
    "        np.array(sys_and_ctrl.nimble_ant_f(T[i], x[:, i], [], params))\r\n",
    "\r\n",
    "print(\"\\n*Simulation Done. See plot for animation...\")\r\n"
   ],
   "outputs": [
    {
     "output_type": "stream",
     "name": "stdout",
     "text": [
      "\n",
      "*Simulation Done. See plot for animation...\n"
     ]
    }
   ],
   "metadata": {}
  },
  {
   "cell_type": "markdown",
   "source": [
    "We animate the system."
   ],
   "metadata": {}
  },
  {
   "cell_type": "code",
   "execution_count": 21,
   "source": [
    "# Animate\r\n",
    "\r\n",
    "# Init Plot\r\n",
    "fig, ax = plt.subplots()\r\n",
    "\r\n",
    "ax = cbf_utils.plot_cbf_elements(ax, bad_sets, x_goal)\r\n",
    "\r\n",
    "plt.xlim(0, 6)\r\n",
    "plt.ylim(0, 6)\r\n",
    "plt.gca().spines['top'].set_visible(False)\r\n",
    "plt.gca().spines['right'].set_visible(False)\r\n",
    "\r\n",
    "line1, = ax.plot([], [], lw=2)\r\n",
    "goal_square = plt.Rectangle(\r\n",
    "    x_goal-np.array([.5, .5]), .2, .2, color='r', alpha=0.5)\r\n",
    "\r\n",
    "\r\n",
    "def init():\r\n",
    "    line1.set_data([], [])\r\n",
    "    return line1\r\n",
    "\r\n",
    "\r\n",
    "def animate(i):\r\n",
    "    line1.set_data((x[0][0:i], x[1][0:i]))\r\n",
    "    return line1\r\n",
    "\r\n",
    "\r\n",
    "ani = animation.FuncAnimation(\r\n",
    "    fig, animate, init_func=init, interval=10, frames=n_samples, repeat=False)\r\n",
    "\r\n",
    "plt.show()\r\n",
    "HTML(ani.to_html5_video())\r\n",
    "go\r\n",
    "print(\"\\n*Animation Complete. Exiting...\\n\")\r\n"
   ],
   "outputs": [
    {
     "output_type": "display_data",
     "data": {
      "text/plain": [
       "<Figure size 432x288 with 1 Axes>"
      ],
      "image/svg+xml": "<?xml version=\"1.0\" encoding=\"utf-8\" standalone=\"no\"?>\r\n<!DOCTYPE svg PUBLIC \"-//W3C//DTD SVG 1.1//EN\"\r\n  \"http://www.w3.org/Graphics/SVG/1.1/DTD/svg11.dtd\">\r\n<!-- Created with matplotlib (https://matplotlib.org/) -->\r\n<svg height=\"252.317344pt\" version=\"1.1\" viewBox=\"0 0 365.74375 252.317344\" width=\"365.74375pt\" xmlns=\"http://www.w3.org/2000/svg\" xmlns:xlink=\"http://www.w3.org/1999/xlink\">\r\n <metadata>\r\n  <rdf:RDF xmlns:cc=\"http://creativecommons.org/ns#\" xmlns:dc=\"http://purl.org/dc/elements/1.1/\" xmlns:rdf=\"http://www.w3.org/1999/02/22-rdf-syntax-ns#\">\r\n   <cc:Work>\r\n    <dc:type rdf:resource=\"http://purl.org/dc/dcmitype/StillImage\"/>\r\n    <dc:date>2021-08-10T11:25:05.915715</dc:date>\r\n    <dc:format>image/svg+xml</dc:format>\r\n    <dc:creator>\r\n     <cc:Agent>\r\n      <dc:title>Matplotlib v3.3.3, https://matplotlib.org/</dc:title>\r\n     </cc:Agent>\r\n    </dc:creator>\r\n   </cc:Work>\r\n  </rdf:RDF>\r\n </metadata>\r\n <defs>\r\n  <style type=\"text/css\">*{stroke-linecap:butt;stroke-linejoin:round;}</style>\r\n </defs>\r\n <g id=\"figure_1\">\r\n  <g id=\"patch_1\">\r\n   <path d=\"M 0 252.317344 \r\nL 365.74375 252.317344 \r\nL 365.74375 0 \r\nL 0 0 \r\nz\r\n\" style=\"fill:none;\"/>\r\n  </g>\r\n  <g id=\"axes_1\">\r\n   <g id=\"patch_2\">\r\n    <path d=\"M 20.5625 228.439219 \r\nL 355.3625 228.439219 \r\nL 355.3625 10.999219 \r\nL 20.5625 10.999219 \r\nz\r\n\" style=\"fill:#ffffff;\"/>\r\n   </g>\r\n   <g id=\"patch_3\">\r\n    <path clip-path=\"url(#pdc50d90913)\" d=\"M 76.3625 174.079219 \r\nC 83.761666 174.079219 90.858778 172.169981 96.090779 168.771994 \r\nC 101.32278 165.374006 104.2625 160.764699 104.2625 155.959219 \r\nC 104.2625 151.153739 101.32278 146.544431 96.090779 143.146444 \r\nC 90.858778 139.748456 83.761666 137.839219 76.3625 137.839219 \r\nC 68.963334 137.839219 61.866222 139.748456 56.634221 143.146444 \r\nC 51.40222 146.544431 48.4625 151.153739 48.4625 155.959219 \r\nC 48.4625 160.764699 51.40222 165.374006 56.634221 168.771994 \r\nC 61.866222 172.169981 68.963334 174.079219 76.3625 174.079219 \r\nz\r\n\" style=\"fill:#ff0000;opacity:0.3;stroke:#ff0000;stroke-linejoin:miter;\"/>\r\n   </g>\r\n   <g id=\"patch_4\">\r\n    <path clip-path=\"url(#pdc50d90913)\" d=\"M 243.7625 210.319219 \r\nC 251.161666 210.319219 258.258778 208.409981 263.490779 205.011994 \r\nC 268.72278 201.614006 271.6625 197.004699 271.6625 192.199219 \r\nC 271.6625 187.393739 268.72278 182.784431 263.490779 179.386444 \r\nC 258.258778 175.988456 251.161666 174.079219 243.7625 174.079219 \r\nC 236.363334 174.079219 229.266222 175.988456 224.034221 179.386444 \r\nC 218.80222 182.784431 215.8625 187.393739 215.8625 192.199219 \r\nC 215.8625 197.004699 218.80222 201.614006 224.034221 205.011994 \r\nC 229.266222 208.409981 236.363334 210.319219 243.7625 210.319219 \r\nz\r\n\" style=\"fill:#ff0000;opacity:0.3;stroke:#ff0000;stroke-linejoin:miter;\"/>\r\n   </g>\r\n   <g id=\"patch_5\">\r\n    <path clip-path=\"url(#pdc50d90913)\" d=\"M 187.9625 174.079219 \r\nC 195.361666 174.079219 202.458778 172.169981 207.690779 168.771994 \r\nC 212.92278 165.374006 215.8625 160.764699 215.8625 155.959219 \r\nC 215.8625 151.153739 212.92278 146.544431 207.690779 143.146444 \r\nC 202.458778 139.748456 195.361666 137.839219 187.9625 137.839219 \r\nC 180.563334 137.839219 173.466222 139.748456 168.234221 143.146444 \r\nC 163.00222 146.544431 160.0625 151.153739 160.0625 155.959219 \r\nC 160.0625 160.764699 163.00222 165.374006 168.234221 168.771994 \r\nC 173.466222 172.169981 180.563334 174.079219 187.9625 174.079219 \r\nz\r\n\" style=\"fill:#ff0000;opacity:0.3;stroke:#ff0000;stroke-linejoin:miter;\"/>\r\n   </g>\r\n   <g id=\"patch_6\">\r\n    <path clip-path=\"url(#pdc50d90913)\" d=\"M 271.6625 94.351219 \r\nC 279.061666 94.351219 286.158778 92.441981 291.390779 89.043994 \r\nC 296.62278 85.646006 299.5625 81.036699 299.5625 76.231219 \r\nC 299.5625 71.425739 296.62278 66.816431 291.390779 63.418444 \r\nC 286.158778 60.020456 279.061666 58.111219 271.6625 58.111219 \r\nC 264.263334 58.111219 257.166222 60.020456 251.934221 63.418444 \r\nC 246.70222 66.816431 243.7625 71.425739 243.7625 76.231219 \r\nC 243.7625 81.036699 246.70222 85.646006 251.934221 89.043994 \r\nC 257.166222 92.441981 264.263334 94.351219 271.6625 94.351219 \r\nz\r\n\" style=\"fill:#ff0000;opacity:0.3;stroke:#ff0000;stroke-linejoin:miter;\"/>\r\n   </g>\r\n   <g id=\"patch_7\">\r\n    <path clip-path=\"url(#pdc50d90913)\" d=\"M 293.9825 50.863219 \r\nL 305.1425 50.863219 \r\nL 305.1425 43.615219 \r\nL 293.9825 43.615219 \r\nz\r\n\" style=\"fill:#008000;opacity:0.5;stroke:#008000;stroke-linejoin:miter;\"/>\r\n   </g>\r\n   <g id=\"matplotlib.axis_1\">\r\n    <g id=\"xtick_1\">\r\n     <g id=\"line2d_1\">\r\n      <defs>\r\n       <path d=\"M 0 0 \r\nL 0 3.5 \r\n\" id=\"m1edd16afa6\" style=\"stroke:#000000;stroke-width:0.8;\"/>\r\n      </defs>\r\n      <g>\r\n       <use style=\"stroke:#000000;stroke-width:0.8;\" x=\"20.5625\" xlink:href=\"#m1edd16afa6\" y=\"228.439219\"/>\r\n      </g>\r\n     </g>\r\n     <g id=\"text_1\">\r\n      <!-- 0 -->\r\n      <g transform=\"translate(17.38125 243.037656)scale(0.1 -0.1)\">\r\n       <defs>\r\n        <path d=\"M 31.78125 66.40625 \r\nQ 24.171875 66.40625 20.328125 58.90625 \r\nQ 16.5 51.421875 16.5 36.375 \r\nQ 16.5 21.390625 20.328125 13.890625 \r\nQ 24.171875 6.390625 31.78125 6.390625 \r\nQ 39.453125 6.390625 43.28125 13.890625 \r\nQ 47.125 21.390625 47.125 36.375 \r\nQ 47.125 51.421875 43.28125 58.90625 \r\nQ 39.453125 66.40625 31.78125 66.40625 \r\nz\r\nM 31.78125 74.21875 \r\nQ 44.046875 74.21875 50.515625 64.515625 \r\nQ 56.984375 54.828125 56.984375 36.375 \r\nQ 56.984375 17.96875 50.515625 8.265625 \r\nQ 44.046875 -1.421875 31.78125 -1.421875 \r\nQ 19.53125 -1.421875 13.0625 8.265625 \r\nQ 6.59375 17.96875 6.59375 36.375 \r\nQ 6.59375 54.828125 13.0625 64.515625 \r\nQ 19.53125 74.21875 31.78125 74.21875 \r\nz\r\n\" id=\"DejaVuSans-48\"/>\r\n       </defs>\r\n       <use xlink:href=\"#DejaVuSans-48\"/>\r\n      </g>\r\n     </g>\r\n    </g>\r\n    <g id=\"xtick_2\">\r\n     <g id=\"line2d_2\">\r\n      <g>\r\n       <use style=\"stroke:#000000;stroke-width:0.8;\" x=\"76.3625\" xlink:href=\"#m1edd16afa6\" y=\"228.439219\"/>\r\n      </g>\r\n     </g>\r\n     <g id=\"text_2\">\r\n      <!-- 1 -->\r\n      <g transform=\"translate(73.18125 243.037656)scale(0.1 -0.1)\">\r\n       <defs>\r\n        <path d=\"M 12.40625 8.296875 \r\nL 28.515625 8.296875 \r\nL 28.515625 63.921875 \r\nL 10.984375 60.40625 \r\nL 10.984375 69.390625 \r\nL 28.421875 72.90625 \r\nL 38.28125 72.90625 \r\nL 38.28125 8.296875 \r\nL 54.390625 8.296875 \r\nL 54.390625 0 \r\nL 12.40625 0 \r\nz\r\n\" id=\"DejaVuSans-49\"/>\r\n       </defs>\r\n       <use xlink:href=\"#DejaVuSans-49\"/>\r\n      </g>\r\n     </g>\r\n    </g>\r\n    <g id=\"xtick_3\">\r\n     <g id=\"line2d_3\">\r\n      <g>\r\n       <use style=\"stroke:#000000;stroke-width:0.8;\" x=\"132.1625\" xlink:href=\"#m1edd16afa6\" y=\"228.439219\"/>\r\n      </g>\r\n     </g>\r\n     <g id=\"text_3\">\r\n      <!-- 2 -->\r\n      <g transform=\"translate(128.98125 243.037656)scale(0.1 -0.1)\">\r\n       <defs>\r\n        <path d=\"M 19.1875 8.296875 \r\nL 53.609375 8.296875 \r\nL 53.609375 0 \r\nL 7.328125 0 \r\nL 7.328125 8.296875 \r\nQ 12.9375 14.109375 22.625 23.890625 \r\nQ 32.328125 33.6875 34.8125 36.53125 \r\nQ 39.546875 41.84375 41.421875 45.53125 \r\nQ 43.3125 49.21875 43.3125 52.78125 \r\nQ 43.3125 58.59375 39.234375 62.25 \r\nQ 35.15625 65.921875 28.609375 65.921875 \r\nQ 23.96875 65.921875 18.8125 64.3125 \r\nQ 13.671875 62.703125 7.8125 59.421875 \r\nL 7.8125 69.390625 \r\nQ 13.765625 71.78125 18.9375 73 \r\nQ 24.125 74.21875 28.421875 74.21875 \r\nQ 39.75 74.21875 46.484375 68.546875 \r\nQ 53.21875 62.890625 53.21875 53.421875 \r\nQ 53.21875 48.921875 51.53125 44.890625 \r\nQ 49.859375 40.875 45.40625 35.40625 \r\nQ 44.1875 33.984375 37.640625 27.21875 \r\nQ 31.109375 20.453125 19.1875 8.296875 \r\nz\r\n\" id=\"DejaVuSans-50\"/>\r\n       </defs>\r\n       <use xlink:href=\"#DejaVuSans-50\"/>\r\n      </g>\r\n     </g>\r\n    </g>\r\n    <g id=\"xtick_4\">\r\n     <g id=\"line2d_4\">\r\n      <g>\r\n       <use style=\"stroke:#000000;stroke-width:0.8;\" x=\"187.9625\" xlink:href=\"#m1edd16afa6\" y=\"228.439219\"/>\r\n      </g>\r\n     </g>\r\n     <g id=\"text_4\">\r\n      <!-- 3 -->\r\n      <g transform=\"translate(184.78125 243.037656)scale(0.1 -0.1)\">\r\n       <defs>\r\n        <path d=\"M 40.578125 39.3125 \r\nQ 47.65625 37.796875 51.625 33 \r\nQ 55.609375 28.21875 55.609375 21.1875 \r\nQ 55.609375 10.40625 48.1875 4.484375 \r\nQ 40.765625 -1.421875 27.09375 -1.421875 \r\nQ 22.515625 -1.421875 17.65625 -0.515625 \r\nQ 12.796875 0.390625 7.625 2.203125 \r\nL 7.625 11.71875 \r\nQ 11.71875 9.328125 16.59375 8.109375 \r\nQ 21.484375 6.890625 26.8125 6.890625 \r\nQ 36.078125 6.890625 40.9375 10.546875 \r\nQ 45.796875 14.203125 45.796875 21.1875 \r\nQ 45.796875 27.640625 41.28125 31.265625 \r\nQ 36.765625 34.90625 28.71875 34.90625 \r\nL 20.21875 34.90625 \r\nL 20.21875 43.015625 \r\nL 29.109375 43.015625 \r\nQ 36.375 43.015625 40.234375 45.921875 \r\nQ 44.09375 48.828125 44.09375 54.296875 \r\nQ 44.09375 59.90625 40.109375 62.90625 \r\nQ 36.140625 65.921875 28.71875 65.921875 \r\nQ 24.65625 65.921875 20.015625 65.03125 \r\nQ 15.375 64.15625 9.8125 62.3125 \r\nL 9.8125 71.09375 \r\nQ 15.4375 72.65625 20.34375 73.4375 \r\nQ 25.25 74.21875 29.59375 74.21875 \r\nQ 40.828125 74.21875 47.359375 69.109375 \r\nQ 53.90625 64.015625 53.90625 55.328125 \r\nQ 53.90625 49.265625 50.4375 45.09375 \r\nQ 46.96875 40.921875 40.578125 39.3125 \r\nz\r\n\" id=\"DejaVuSans-51\"/>\r\n       </defs>\r\n       <use xlink:href=\"#DejaVuSans-51\"/>\r\n      </g>\r\n     </g>\r\n    </g>\r\n    <g id=\"xtick_5\">\r\n     <g id=\"line2d_5\">\r\n      <g>\r\n       <use style=\"stroke:#000000;stroke-width:0.8;\" x=\"243.7625\" xlink:href=\"#m1edd16afa6\" y=\"228.439219\"/>\r\n      </g>\r\n     </g>\r\n     <g id=\"text_5\">\r\n      <!-- 4 -->\r\n      <g transform=\"translate(240.58125 243.037656)scale(0.1 -0.1)\">\r\n       <defs>\r\n        <path d=\"M 37.796875 64.3125 \r\nL 12.890625 25.390625 \r\nL 37.796875 25.390625 \r\nz\r\nM 35.203125 72.90625 \r\nL 47.609375 72.90625 \r\nL 47.609375 25.390625 \r\nL 58.015625 25.390625 \r\nL 58.015625 17.1875 \r\nL 47.609375 17.1875 \r\nL 47.609375 0 \r\nL 37.796875 0 \r\nL 37.796875 17.1875 \r\nL 4.890625 17.1875 \r\nL 4.890625 26.703125 \r\nz\r\n\" id=\"DejaVuSans-52\"/>\r\n       </defs>\r\n       <use xlink:href=\"#DejaVuSans-52\"/>\r\n      </g>\r\n     </g>\r\n    </g>\r\n    <g id=\"xtick_6\">\r\n     <g id=\"line2d_6\">\r\n      <g>\r\n       <use style=\"stroke:#000000;stroke-width:0.8;\" x=\"299.5625\" xlink:href=\"#m1edd16afa6\" y=\"228.439219\"/>\r\n      </g>\r\n     </g>\r\n     <g id=\"text_6\">\r\n      <!-- 5 -->\r\n      <g transform=\"translate(296.38125 243.037656)scale(0.1 -0.1)\">\r\n       <defs>\r\n        <path d=\"M 10.796875 72.90625 \r\nL 49.515625 72.90625 \r\nL 49.515625 64.59375 \r\nL 19.828125 64.59375 \r\nL 19.828125 46.734375 \r\nQ 21.96875 47.46875 24.109375 47.828125 \r\nQ 26.265625 48.1875 28.421875 48.1875 \r\nQ 40.625 48.1875 47.75 41.5 \r\nQ 54.890625 34.8125 54.890625 23.390625 \r\nQ 54.890625 11.625 47.5625 5.09375 \r\nQ 40.234375 -1.421875 26.90625 -1.421875 \r\nQ 22.3125 -1.421875 17.546875 -0.640625 \r\nQ 12.796875 0.140625 7.71875 1.703125 \r\nL 7.71875 11.625 \r\nQ 12.109375 9.234375 16.796875 8.0625 \r\nQ 21.484375 6.890625 26.703125 6.890625 \r\nQ 35.15625 6.890625 40.078125 11.328125 \r\nQ 45.015625 15.765625 45.015625 23.390625 \r\nQ 45.015625 31 40.078125 35.4375 \r\nQ 35.15625 39.890625 26.703125 39.890625 \r\nQ 22.75 39.890625 18.8125 39.015625 \r\nQ 14.890625 38.140625 10.796875 36.28125 \r\nz\r\n\" id=\"DejaVuSans-53\"/>\r\n       </defs>\r\n       <use xlink:href=\"#DejaVuSans-53\"/>\r\n      </g>\r\n     </g>\r\n    </g>\r\n    <g id=\"xtick_7\">\r\n     <g id=\"line2d_7\">\r\n      <g>\r\n       <use style=\"stroke:#000000;stroke-width:0.8;\" x=\"355.3625\" xlink:href=\"#m1edd16afa6\" y=\"228.439219\"/>\r\n      </g>\r\n     </g>\r\n     <g id=\"text_7\">\r\n      <!-- 6 -->\r\n      <g transform=\"translate(352.18125 243.037656)scale(0.1 -0.1)\">\r\n       <defs>\r\n        <path d=\"M 33.015625 40.375 \r\nQ 26.375 40.375 22.484375 35.828125 \r\nQ 18.609375 31.296875 18.609375 23.390625 \r\nQ 18.609375 15.53125 22.484375 10.953125 \r\nQ 26.375 6.390625 33.015625 6.390625 \r\nQ 39.65625 6.390625 43.53125 10.953125 \r\nQ 47.40625 15.53125 47.40625 23.390625 \r\nQ 47.40625 31.296875 43.53125 35.828125 \r\nQ 39.65625 40.375 33.015625 40.375 \r\nz\r\nM 52.59375 71.296875 \r\nL 52.59375 62.3125 \r\nQ 48.875 64.0625 45.09375 64.984375 \r\nQ 41.3125 65.921875 37.59375 65.921875 \r\nQ 27.828125 65.921875 22.671875 59.328125 \r\nQ 17.53125 52.734375 16.796875 39.40625 \r\nQ 19.671875 43.65625 24.015625 45.921875 \r\nQ 28.375 48.1875 33.59375 48.1875 \r\nQ 44.578125 48.1875 50.953125 41.515625 \r\nQ 57.328125 34.859375 57.328125 23.390625 \r\nQ 57.328125 12.15625 50.6875 5.359375 \r\nQ 44.046875 -1.421875 33.015625 -1.421875 \r\nQ 20.359375 -1.421875 13.671875 8.265625 \r\nQ 6.984375 17.96875 6.984375 36.375 \r\nQ 6.984375 53.65625 15.1875 63.9375 \r\nQ 23.390625 74.21875 37.203125 74.21875 \r\nQ 40.921875 74.21875 44.703125 73.484375 \r\nQ 48.484375 72.75 52.59375 71.296875 \r\nz\r\n\" id=\"DejaVuSans-54\"/>\r\n       </defs>\r\n       <use xlink:href=\"#DejaVuSans-54\"/>\r\n      </g>\r\n     </g>\r\n    </g>\r\n   </g>\r\n   <g id=\"matplotlib.axis_2\">\r\n    <g id=\"ytick_1\">\r\n     <g id=\"line2d_8\">\r\n      <defs>\r\n       <path d=\"M 0 0 \r\nL -3.5 0 \r\n\" id=\"m94c00e1dd0\" style=\"stroke:#000000;stroke-width:0.8;\"/>\r\n      </defs>\r\n      <g>\r\n       <use style=\"stroke:#000000;stroke-width:0.8;\" x=\"20.5625\" xlink:href=\"#m94c00e1dd0\" y=\"228.439219\"/>\r\n      </g>\r\n     </g>\r\n     <g id=\"text_8\">\r\n      <!-- 0 -->\r\n      <g transform=\"translate(7.2 232.238437)scale(0.1 -0.1)\">\r\n       <use xlink:href=\"#DejaVuSans-48\"/>\r\n      </g>\r\n     </g>\r\n    </g>\r\n    <g id=\"ytick_2\">\r\n     <g id=\"line2d_9\">\r\n      <g>\r\n       <use style=\"stroke:#000000;stroke-width:0.8;\" x=\"20.5625\" xlink:href=\"#m94c00e1dd0\" y=\"192.199219\"/>\r\n      </g>\r\n     </g>\r\n     <g id=\"text_9\">\r\n      <!-- 1 -->\r\n      <g transform=\"translate(7.2 195.998437)scale(0.1 -0.1)\">\r\n       <use xlink:href=\"#DejaVuSans-49\"/>\r\n      </g>\r\n     </g>\r\n    </g>\r\n    <g id=\"ytick_3\">\r\n     <g id=\"line2d_10\">\r\n      <g>\r\n       <use style=\"stroke:#000000;stroke-width:0.8;\" x=\"20.5625\" xlink:href=\"#m94c00e1dd0\" y=\"155.959219\"/>\r\n      </g>\r\n     </g>\r\n     <g id=\"text_10\">\r\n      <!-- 2 -->\r\n      <g transform=\"translate(7.2 159.758437)scale(0.1 -0.1)\">\r\n       <use xlink:href=\"#DejaVuSans-50\"/>\r\n      </g>\r\n     </g>\r\n    </g>\r\n    <g id=\"ytick_4\">\r\n     <g id=\"line2d_11\">\r\n      <g>\r\n       <use style=\"stroke:#000000;stroke-width:0.8;\" x=\"20.5625\" xlink:href=\"#m94c00e1dd0\" y=\"119.719219\"/>\r\n      </g>\r\n     </g>\r\n     <g id=\"text_11\">\r\n      <!-- 3 -->\r\n      <g transform=\"translate(7.2 123.518437)scale(0.1 -0.1)\">\r\n       <use xlink:href=\"#DejaVuSans-51\"/>\r\n      </g>\r\n     </g>\r\n    </g>\r\n    <g id=\"ytick_5\">\r\n     <g id=\"line2d_12\">\r\n      <g>\r\n       <use style=\"stroke:#000000;stroke-width:0.8;\" x=\"20.5625\" xlink:href=\"#m94c00e1dd0\" y=\"83.479219\"/>\r\n      </g>\r\n     </g>\r\n     <g id=\"text_12\">\r\n      <!-- 4 -->\r\n      <g transform=\"translate(7.2 87.278437)scale(0.1 -0.1)\">\r\n       <use xlink:href=\"#DejaVuSans-52\"/>\r\n      </g>\r\n     </g>\r\n    </g>\r\n    <g id=\"ytick_6\">\r\n     <g id=\"line2d_13\">\r\n      <g>\r\n       <use style=\"stroke:#000000;stroke-width:0.8;\" x=\"20.5625\" xlink:href=\"#m94c00e1dd0\" y=\"47.239219\"/>\r\n      </g>\r\n     </g>\r\n     <g id=\"text_13\">\r\n      <!-- 5 -->\r\n      <g transform=\"translate(7.2 51.038437)scale(0.1 -0.1)\">\r\n       <use xlink:href=\"#DejaVuSans-53\"/>\r\n      </g>\r\n     </g>\r\n    </g>\r\n    <g id=\"ytick_7\">\r\n     <g id=\"line2d_14\">\r\n      <g>\r\n       <use style=\"stroke:#000000;stroke-width:0.8;\" x=\"20.5625\" xlink:href=\"#m94c00e1dd0\" y=\"10.999219\"/>\r\n      </g>\r\n     </g>\r\n     <g id=\"text_14\">\r\n      <!-- 6 -->\r\n      <g transform=\"translate(7.2 14.798437)scale(0.1 -0.1)\">\r\n       <use xlink:href=\"#DejaVuSans-54\"/>\r\n      </g>\r\n     </g>\r\n    </g>\r\n   </g>\r\n   <g id=\"line2d_15\"/>\r\n   <g id=\"patch_8\">\r\n    <path d=\"M 20.5625 228.439219 \r\nL 20.5625 10.999219 \r\n\" style=\"fill:none;stroke:#000000;stroke-linecap:square;stroke-linejoin:miter;stroke-width:0.8;\"/>\r\n   </g>\r\n   <g id=\"patch_9\">\r\n    <path d=\"M 20.5625 228.439219 \r\nL 355.3625 228.439219 \r\n\" style=\"fill:none;stroke:#000000;stroke-linecap:square;stroke-linejoin:miter;stroke-width:0.8;\"/>\r\n   </g>\r\n  </g>\r\n </g>\r\n <defs>\r\n  <clipPath id=\"pdc50d90913\">\r\n   <rect height=\"217.44\" width=\"334.8\" x=\"20.5625\" y=\"10.999219\"/>\r\n  </clipPath>\r\n </defs>\r\n</svg>\r\n",
      "image/png": "[encoded data removed]"
     },
     "metadata": {
      "needs_background": "light"
     }
    },
    {
     "output_type": "stream",
     "name": "stdout",
     "text": [
      "\n",
      "*Animation Complete. Exiting...\n",
      "\n"
     ]
    }
   ],
   "metadata": {}
  },
  {
   "cell_type": "markdown",
   "source": [
    "To run the code directly in python see [01-Tutorial-CFB-Static-Obstacles.py](./01-Tutorial-CFB-Static-Obstacles.py)"
   ],
   "metadata": {}
  }
 ]
}