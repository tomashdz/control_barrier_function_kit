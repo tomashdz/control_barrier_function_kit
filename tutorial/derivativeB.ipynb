{
 "metadata": {
  "language_info": {
   "codemirror_mode": {
    "name": "ipython",
    "version": 3
   },
   "file_extension": ".py",
   "mimetype": "text/x-python",
   "name": "python",
   "nbconvert_exporter": "python",
   "pygments_lexer": "ipython3",
   "version": "3.6.9-final"
  },
  "orig_nbformat": 2,
  "kernelspec": {
   "name": "python3",
   "display_name": "Python 3.6.9 64-bit",
   "metadata": {
    "interpreter": {
     "hash": "31f2aee4e71d21fbe5cf8b01ff0e069b9275f58929596ceb00d14d90e3e16cd6"
    }
   }
  }
 },
 "nbformat": 4,
 "nbformat_minor": 2,
 "cells": [
  {
   "cell_type": "markdown",
   "source": [
    "Since\n",
    "$\n",
    "\\begin{align*}\n",
    "B(x) = \\frac{(x_0-z_0)^2}{a^2} + \\frac{(x_1-z_1)^2}{b^2} - 1 \\tag{6}\n",
    "\\end{align*}\n",
    "$\n",
    "then\n",
    "$\n",
    "\\begin{align*}\n",
    "\\frac{\\partial{B}}{\\partial{x}} = \\frac{\\partial{B(x)}}{\\partial{x}} &= \\frac{\\partial}{\\partial{x}} (\\frac{(x_0-z_0)^2}{a^2} + \\frac{(x_1-z_1)^2}{b^2} - 1)\\\\\n",
    "&= \\frac{\\partial}{\\partial{x}} (\\frac{(x_0^2-2z_0x_0+z_0^2)}{a^2} + \\frac{(x_1^2-2z_1x_1+z_1^2)}{b^2} - 1)\\\\\n",
    "&= \\begin{bmatrix}\n",
    "        \\frac{\\partial}{\\partial{x_0}} (\\frac{(x_0^2-2z_0x_0+z_0^2)}{a^2} + \\frac{(x_1^2-2z_1x_1+z_1^2)}{b^2} - 1)\\\\\n",
    "        \\frac{\\partial}{\\partial{x_1}} (\\frac{(x_0^2-2z_0x_0+z_0^2)}{a^2} + \\frac{(x_1^2-2z_1x_1+z_1^2)}{b^2} - 1)\n",
    "   \\end{bmatrix}\\\\\n",
    "&= \\begin{bmatrix}\n",
    "        \\frac{(2x_0-2z_0)}{a^2})\\\\\n",
    "        \\frac{(2x_1-2z_1)}{b^2})\n",
    "   \\end{bmatrix}\n",
    "= \\begin{bmatrix}\n",
    "        \\frac{2}{a^2}(x_0 - z_0)\\\\\n",
    "        \\frac{2}{b^2}(x_1 - z_1)\n",
    "   \\end{bmatrix}\n",
    "\\end{align*}\n",
    "$"
   ],
   "metadata": {}
  }
 ]
}